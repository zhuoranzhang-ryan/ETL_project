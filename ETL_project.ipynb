{
 "cells": [
  {
   "cell_type": "markdown",
   "metadata": {},
   "source": [
    "# ETL_Project"
   ]
  },
  {
   "cell_type": "code",
   "execution_count": null,
   "metadata": {},
   "outputs": [],
   "source": [
    "import pandas as pd\n",
<<<<<<< HEAD
    "from sqlalchemy import create_engine\n",
    "import numpy as np\n",
    "from datetime import datetime"
=======
    "from sqlalchemy import create_engine"
>>>>>>> 9b62a4e990f92f45b0cb64a0cfe077da3b7514d5
   ]
  },
  {
   "cell_type": "markdown",
   "metadata": {},
   "source": [
<<<<<<< HEAD
    "Import Ebola Data"
=======
    "### Store SARS csv files into dataframe"
>>>>>>> 9b62a4e990f92f45b0cb64a0cfe077da3b7514d5
   ]
  },
  {
   "cell_type": "code",
   "execution_count": null,
<<<<<<< HEAD
   "metadata": {
    "scrolled": true
   },
   "outputs": [],
   "source": [
    "ebola_file = \"Resources/ebola_data_db_format.csv\"\n",
    "ebola = pd.read_csv(ebola_file)\n",
    "ebola"
=======
   "metadata": {},
   "outputs": [],
   "source": [
    "sars_file = \"Resources/sars_2003_complete_dataset_clean.csv\"\n",
    "df_sars = pd.read_csv(sars_file)\n",
    "df_sars.head()"
>>>>>>> 9b62a4e990f92f45b0cb64a0cfe077da3b7514d5
   ]
  },
  {
   "cell_type": "markdown",
   "metadata": {},
   "source": [
<<<<<<< HEAD
    "Drop Rows with 0/NaN Values"
=======
    "### Transform SARS data"
   ]
  },
  {
   "cell_type": "code",
   "execution_count": null,
   "metadata": {},
   "outputs": [],
   "source": [
    "df_sars = df_sars[['Country', 'Cumulative number of case(s)', 'Number of deaths']].copy()\n",
    "df_sars.columns = ['country', 'total_cases_sars', 'total_deaths_sars']\n",
    "df_sars = df_sars.groupby('country').max().reset_index()\n",
    "df_sars.head()"
>>>>>>> 9b62a4e990f92f45b0cb64a0cfe077da3b7514d5
   ]
  },
  {
   "cell_type": "code",
   "execution_count": null,
   "metadata": {},
   "outputs": [],
   "source": [
<<<<<<< HEAD
    "ebola_df = ebola[ebola != 0].dropna()"
=======
    "df_sars.head()"
>>>>>>> 9b62a4e990f92f45b0cb64a0cfe077da3b7514d5
   ]
  },
  {
   "cell_type": "markdown",
   "metadata": {},
   "source": [
<<<<<<< HEAD
    "Seperate into 2 seperate DF by Indicator String Value (Confirmed Cases, Confirmed Deaths)"
=======
    "### Store nCoV csv files into dataframe"
>>>>>>> 9b62a4e990f92f45b0cb64a0cfe077da3b7514d5
   ]
  },
  {
   "cell_type": "code",
   "execution_count": null,
   "metadata": {},
   "outputs": [],
   "source": [
<<<<<<< HEAD
    "e_confirm = ebola_df.loc[ebola_df['Indicator'] == \"Cumulative number of confirmed Ebola cases\"]\n",
    "e_confirm.rename(columns = {\"value\": \"Confirmed Cases to Date\"}, inplace = True)\n",
    "e_confirm.drop(columns = ['Indicator'], inplace = True)\n",
    "e_confirm\n",
    "#print(e_confirm.to_string())"
=======
    "ncov_file = \"Resources/2019_nCoV_data.csv\"\n",
    "df_ncov = pd.read_csv(ncov_file)\n",
    "df_ncov.head()"
   ]
  },
  {
   "cell_type": "markdown",
   "metadata": {},
   "source": [
    "### Transform SARS data"
>>>>>>> 9b62a4e990f92f45b0cb64a0cfe077da3b7514d5
   ]
  },
  {
   "cell_type": "code",
   "execution_count": null,
<<<<<<< HEAD
   "metadata": {
    "scrolled": false
   },
   "outputs": [],
   "source": [
    "e_death = ebola_df.loc[ebola_df['Indicator'] == \"Cumulative number of confirmed Ebola deaths\"]\n",
    "e_death.rename(columns = {\"value\": \"Deaths to Date\"}, inplace = True)\n",
    "e_death.drop(columns = ['Indicator'], inplace = True)\n",
    "e_death\n",
    "#print(e_death.to_string())"
   ]
  },
  {
   "cell_type": "markdown",
   "metadata": {},
   "source": [
    "Merge the Seperated Confirmed Cases to Date and Deaths to Date DF's .\\\n",
    "Rename Columns .\\\n",
    "Fill NaN with 0 .\\\n",
    "Confirm Cases and Deaths as int Type .\\\n",
    "Change date to datetime"
=======
   "metadata": {},
   "outputs": [],
   "source": [
    "# Rename cities in China.\n",
    "df_ncov = df_ncov.replace(to_replace='China', value='Mainland China', regex=False)\n",
    "df_ncov = df_ncov.replace(to_replace='Hong Kong', value='Hong Kong SAR, China', regex=False)\n",
    "df_ncov = df_ncov.replace(to_replace='Macau', value='Macau SAR, China', regex=False)\n",
    "df_ncov = df_ncov.replace(to_replace='Taiwan', value='Taiwan, China', regex=False)"
   ]
  },
  {
   "cell_type": "code",
   "execution_count": null,
   "metadata": {},
   "outputs": [],
   "source": [
    "df_ncov[['Confirmed', 'Deaths']] = df_ncov[['Confirmed', 'Deaths']].astype(int)\n",
    "df_ncov = df_ncov.groupby('Country')['Confirmed', 'Deaths'].max().reset_index()\n",
    "df_ncov.columns = ['country', 'total_cases_ncov', 'total_deaths_ncov']"
>>>>>>> 9b62a4e990f92f45b0cb64a0cfe077da3b7514d5
   ]
  },
  {
   "cell_type": "code",
   "execution_count": null,
<<<<<<< HEAD
   "metadata": {
    "scrolled": true
   },
   "outputs": [],
   "source": [
    "ebola_complete = e_confirm.merge(e_death, how = 'outer', left_index = False, right_index = False)\n",
    "ebola_complete.rename(columns = {\"Country\": \"country\", \"Date\": \"date\", \"Confirmed Cases to Date\": \"total_cases_ebola\", \"Deaths to Date\": \"total_deaths_ebola\"}, inplace = True)\n",
    "ebola_complete['total_deaths_ebola'] = ebola_complete['total_deaths_ebola'].fillna(0)\n",
    "ebola_complete = ebola_complete.astype({\"total_cases_ebola\": int, \"total_deaths_ebola\": int})\n",
    "pd.to_datetime(ebola_complete['date'])\n",
    "ebola_complete\n",
    "#print(ebola_complete.to_string())"
=======
   "metadata": {},
   "outputs": [],
   "source": [
    "df_ncov.head()"
>>>>>>> 9b62a4e990f92f45b0cb64a0cfe077da3b7514d5
   ]
  },
  {
   "cell_type": "markdown",
   "metadata": {},
   "source": [
<<<<<<< HEAD
    "Tyler; Database Connection and Upload"
=======
    "### Connect to local database"
>>>>>>> 9b62a4e990f92f45b0cb64a0cfe077da3b7514d5
   ]
  },
  {
   "cell_type": "code",
   "execution_count": null,
   "metadata": {},
   "outputs": [],
   "source": [
<<<<<<< HEAD
    "ebola_connection_string = \"postgres:postgres@localhost:5432/virus_db\"\n",
    "engine = create_engine(f'postgresql://{ebola_connection_string}')"
=======
    "rds_connection_string = \"postgres:postgres@localhost:5432/virus_db\"\n",
    "engine = create_engine(f'postgresql://{rds_connection_string}')"
>>>>>>> 9b62a4e990f92f45b0cb64a0cfe077da3b7514d5
   ]
  },
  {
   "cell_type": "code",
   "execution_count": null,
   "metadata": {},
   "outputs": [],
   "source": [
    "engine.table_names()"
   ]
  },
  {
<<<<<<< HEAD
=======
   "cell_type": "markdown",
   "metadata": {},
   "source": [
    "### Load"
   ]
  },
  {
>>>>>>> 9b62a4e990f92f45b0cb64a0cfe077da3b7514d5
   "cell_type": "code",
   "execution_count": null,
   "metadata": {},
   "outputs": [],
   "source": [
<<<<<<< HEAD
    "ebola_complete.to_sql(name = 'ebola', con = engine, if_exists = 'append', index = False)"
=======
    "df_sars.to_sql(name='sars', con=engine, if_exists='append', index=False)\n",
    "df_ncov.to_sql(name='ncov', con=engine, if_exists='append', index=False)"
>>>>>>> 9b62a4e990f92f45b0cb64a0cfe077da3b7514d5
   ]
  },
  {
   "cell_type": "code",
   "execution_count": null,
   "metadata": {},
   "outputs": [],
   "source": []
  }
 ],
 "metadata": {
  "kernelspec": {
   "display_name": "Python 3",
   "language": "python",
   "name": "python3"
  },
  "language_info": {
   "codemirror_mode": {
    "name": "ipython",
    "version": 3
   },
   "file_extension": ".py",
   "mimetype": "text/x-python",
   "name": "python",
   "nbconvert_exporter": "python",
   "pygments_lexer": "ipython3",
   "version": "3.7.4"
  }
 },
 "nbformat": 4,
 "nbformat_minor": 4
}
