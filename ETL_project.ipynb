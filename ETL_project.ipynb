{
 "cells": [
  {
   "cell_type": "markdown",
   "metadata": {},
   "source": [
    "# ETL_Project"
   ]
  },
  {
   "cell_type": "code",
   "execution_count": null,
   "metadata": {},
   "outputs": [],
   "source": [
    "import pandas as pd\n",
    "from sqlalchemy import create_engine\n",
    "import numpy as np\n",
    "from datetime import datetime"
   ]
  },
  {
   "cell_type": "markdown",
   "metadata": {},
   "source": [
    "Import Ebola Data"
   ]
  },
  {
   "cell_type": "code",
   "execution_count": null,
   "metadata": {
    "scrolled": true
   },
   "outputs": [],
   "source": [
    "ebola_file = \"Resources/ebola_data_db_format.csv\"\n",
    "ebola = pd.read_csv(ebola_file)\n",
    "ebola"
   ]
  },
  {
   "cell_type": "markdown",
   "metadata": {},
   "source": [
    "Drop Rows with 0/NaN Values"
   ]
  },
  {
   "cell_type": "code",
   "execution_count": null,
   "metadata": {},
   "outputs": [],
   "source": [
    "ebola_df = ebola[ebola != 0].dropna()"
   ]
  },
  {
   "cell_type": "markdown",
   "metadata": {},
   "source": [
    "Seperate into 2 seperate DF by Indicator String Value (Confirmed Cases, Confirmed Deaths)"
   ]
  },
  {
   "cell_type": "code",
   "execution_count": null,
   "metadata": {},
   "outputs": [],
   "source": [
    "e_confirm = ebola_df.loc[ebola_df['Indicator'] == \"Cumulative number of confirmed Ebola cases\"]\n",
    "e_confirm.rename(columns = {\"value\": \"Confirmed Cases to Date\"}, inplace = True)\n",
    "e_confirm.drop(columns = ['Indicator'], inplace = True)\n",
    "e_confirm\n",
    "#print(e_confirm.to_string())"
   ]
  },
  {
   "cell_type": "code",
   "execution_count": null,
   "metadata": {
    "scrolled": false
   },
   "outputs": [],
   "source": [
    "e_death = ebola_df.loc[ebola_df['Indicator'] == \"Cumulative number of confirmed Ebola deaths\"]\n",
    "e_death.rename(columns = {\"value\": \"Deaths to Date\"}, inplace = True)\n",
    "e_death.drop(columns = ['Indicator'], inplace = True)\n",
    "e_death\n",
    "#print(e_death.to_string())"
   ]
  },
  {
   "cell_type": "markdown",
   "metadata": {},
   "source": [
    "Merge the Seperated Confirmed Cases to Date and Deaths to Date DF's .\\\n",
    "Rename Columns .\\\n",
    "Fill NaN with 0 .\\\n",
    "Confirm Cases and Deaths as int Type .\\\n",
    "Change date to datetime"
   ]
  },
  {
   "cell_type": "code",
   "execution_count": null,
   "metadata": {
    "scrolled": true
   },
   "outputs": [],
   "source": [
    "ebola_complete = e_confirm.merge(e_death, how = 'outer', left_index = False, right_index = False)\n",
    "ebola_complete.rename(columns = {\"Country\": \"country\", \"Date\": \"date\", \"Confirmed Cases to Date\": \"total_cases_ebola\", \"Deaths to Date\": \"total_deaths_ebola\"}, inplace = True)\n",
    "ebola_complete['total_deaths_ebola'] = ebola_complete['total_deaths_ebola'].fillna(0)\n",
    "ebola_complete = ebola_complete.astype({\"total_cases_ebola\": int, \"total_deaths_ebola\": int})\n",
    "pd.to_datetime(ebola_complete['date'])\n",
    "ebola_complete\n",
    "#print(ebola_complete.to_string())"
   ]
  },
  {
   "cell_type": "markdown",
   "metadata": {},
   "source": [
    "Tyler; Database Connection and Upload"
   ]
  },
  {
   "cell_type": "code",
   "execution_count": null,
   "metadata": {},
   "outputs": [],
   "source": [
    "ebola_connection_string = \"postgres:postgres@localhost:5432/virus_db\"\n",
    "engine = create_engine(f'postgresql://{ebola_connection_string}')"
   ]
  },
  {
   "cell_type": "code",
   "execution_count": null,
   "metadata": {},
   "outputs": [],
   "source": [
    "engine.table_names()"
   ]
  },
  {
   "cell_type": "code",
   "execution_count": null,
   "metadata": {},
   "outputs": [],
   "source": [
    "ebola_complete.to_sql(name = 'ebola', con = engine, if_exists = 'append', index = False)"
   ]
  },
  {
   "cell_type": "code",
   "execution_count": null,
   "metadata": {},
   "outputs": [],
   "source": []
  }
 ],
 "metadata": {
  "kernelspec": {
   "display_name": "Python 3",
   "language": "python",
   "name": "python3"
  },
  "language_info": {
   "codemirror_mode": {
    "name": "ipython",
    "version": 3
   },
   "file_extension": ".py",
   "mimetype": "text/x-python",
   "name": "python",
   "nbconvert_exporter": "python",
   "pygments_lexer": "ipython3",
   "version": "3.7.4"
  }
 },
 "nbformat": 4,
 "nbformat_minor": 4
}
